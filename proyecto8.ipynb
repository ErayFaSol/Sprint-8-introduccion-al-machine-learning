{
 "cells": [
  {
   "cell_type": "markdown",
   "metadata": {},
   "source": [
    "# Hola Eduardo!\n",
    "\n",
    "Mi nombre es David Bautista, soy code reviewer de TripleTen y voy a revisar el proyecto que acabas de desarrollar.\n",
    "\n",
    "Cuando vea un error la primera vez, lo señalaré. Deberás encontrarlo y arreglarlo. La intención es que te prepares para un espacio real de trabajo. En un trabajo, el líder de tu equipo hará lo mismo. Si no puedes solucionar el error, te daré más información en la próxima ocasión.\n",
    "\n",
    "Encontrarás mis comentarios más abajo - **por favor, no los muevas, no los modifiques ni los borres.**\n",
    "\n",
    "¿Cómo lo voy a hacer? Voy a leer detenidamente cada una de las implementaciones que has llevado a cabo para cumplir con lo solicitado. Verás los comentarios de esta forma:\n",
    "\n",
    "<div class=\"alert alert-block alert-success\">\n",
    "<b>Comentario del revisor</b> <a class=\"tocSkip\"></a>\n",
    "    \n",
    "Si todo está perfecto.\n",
    "</div>\n",
    "\n",
    "\n",
    "<div class=\"alert alert-block alert-warning\">\n",
    "<b>Comentario del revisor</b> <a class=\"tocSkip\"></a>\n",
    "    \n",
    "Si tu código está bien pero se puede mejorar o hay algún detalle que le hace falta.\n",
    "</div>\n",
    "\n",
    "\n",
    "<div class=\"alert alert-block alert-danger\">\n",
    "    \n",
    "<b>Comentario del revisor</b> <a class=\"tocSkip\"></a>\n",
    "    \n",
    "    \n",
    "Si de pronto hace falta algo o existe algún problema con tu código o conclusiones.\n",
    "</div>\n",
    "\n",
    "\n",
    "Puedes responderme de esta forma: \n",
    "\n",
    "<div class=\"alert alert-block alert-info\">\n",
    "<b>Respuesta del estudiante</b> <a class=\"tocSkip\"></a>\n",
    "</div>\n",
    "\n",
    "¡Empecemos!"
   ]
  },
  {
   "cell_type": "markdown",
   "metadata": {},
   "source": [
    "# Descripcion del proyecto"
   ]
  },
  {
   "cell_type": "markdown",
   "metadata": {},
   "source": [
    "La compañía móvil Megaline no está satisfecha al ver que muchos de sus clientes utilizan planes heredados. Quieren desarrollar un modelo que pueda analizar el comportamiento de los clientes y recomendar uno de los nuevos planes de Megaline: Smart o Ultra.\n",
    "\n",
    "Tienes acceso a los datos de comportamiento de los suscriptores que ya se han cambiado a los planes nuevos (del proyecto del sprint de Análisis estadístico de datos). Para esta tarea de clasificación debes crear un modelo que escoja el plan correcto.\n",
    "\n",
    "Como ya hiciste el paso de procesar los datos, puedes lanzarte directo a crear el modelo.\n",
    "Desarrolla un modelo con la mayor exactitud posible. En este proyecto, el umbral de exactitud es 0.75. Usa el dataset para comprobar la exactitud."
   ]
  },
  {
   "cell_type": "markdown",
   "metadata": {},
   "source": [
    "## Instrucciones del proyecto"
   ]
  },
  {
   "cell_type": "markdown",
   "metadata": {},
   "source": [
    "- Abre y examina el archivo de datos. Dirección al archivo:datasets/users_behavior.csv Descarga el dataset\n",
    "- Segmenta los datos fuente en un conjunto de entrenamiento, uno de validación y uno de prueba.\n",
    "- Investiga la calidad de diferentes modelos cambiando los hiperparámetros. Describe brevemente los hallazgos del estudio.\n",
    "- Comprueba la calidad del modelo usando el conjunto de prueba.\n",
    "- Tarea adicional: haz una prueba de cordura al modelo. Estos datos son más complejos que los que habías usado antes así que no será una tarea fácil. Más adelante lo veremos con más detalle."
   ]
  },
  {
   "cell_type": "markdown",
   "metadata": {},
   "source": [
    "## Descripcion de datos\n"
   ]
  },
  {
   "cell_type": "markdown",
   "metadata": {},
   "source": [
    "Cada observación en el dataset contiene información del comportamiento mensual sobre un usuario. La información dada es la siguiente:\n",
    "\n",
    "- сalls — número de llamadas,\n",
    "- minutes — duración total de la llamada en minutos,\n",
    "- messages — número de mensajes de texto,\n",
    "- mb_used — Tráfico de Internet utilizado en MB,\n",
    "- is_ultra — plan para el mes actual (Ultra - 1, Smart - 0)."
   ]
  },
  {
   "cell_type": "markdown",
   "metadata": {},
   "source": [
    "## Evaluación del proyecto"
   ]
  },
  {
   "cell_type": "markdown",
   "metadata": {},
   "source": [
    "Hemos definido los criterios de evaluación para el proyecto. Lee esto con atención antes de pasar al ejercicio. \n",
    "Esto es lo que los revisores buscarán cuando evalúen tu proyecto:\n",
    "\n",
    "- ¿Cómo leíste los datos después de descargarlos?\n",
    "- ¿Segmentaste correctamente los datos en conjuntos de entrenamiento, validación y prueba?\n",
    "- ¿Cómo escogiste el tamaño de los conjuntos?\n",
    "- ¿Evaluaste correctamente la calidad del modelo?\n",
    "- ¿Qué modelos e hiperparámentros usaste?\n",
    "- ¿Cuáles fueron tus hallazgos?\n",
    "- ¿Probaste los modelos correctamente?\n",
    "- ¿Cuál es tu puntuación de exactitud?\n",
    "- ¿Te ceñiste a la estructura del proyecto y mantuviste limpio el código?\n",
    "\n",
    "Tienes tus hojas informativas y los resúmenes de los capítulos así que ya puedes continuar con el proyecto.\n",
    "¡Buena suerte!"
   ]
  },
  {
   "cell_type": "markdown",
   "metadata": {},
   "source": [
    "<div class=\"alert alert-block alert-success\">\n",
    "<b>Comentario del revisor </b> <a class=\"tocSkip\"></a>\n",
    "    \n",
    "Hola Eduardo, buen trabajo dejando la sección de introducción del proyecto, ahora bien, si lo deseas podrías modificarlo para hacer el contenido del proyecto más personalizado.  </div>"
   ]
  },
  {
   "cell_type": "markdown",
   "metadata": {},
   "source": [
    "### Abrir y examinar el archivo de datos"
   ]
  },
  {
   "cell_type": "code",
   "execution_count": 1,
   "metadata": {},
   "outputs": [
    {
     "data": {
      "text/html": [
       "<hr>"
      ],
      "text/plain": [
       "<IPython.core.display.HTML object>"
      ]
     },
     "metadata": {},
     "output_type": "display_data"
    },
    {
     "data": {
      "text/html": [
       "<h1> Datos de comportamiento de usuarios "
      ],
      "text/plain": [
       "<IPython.core.display.HTML object>"
      ]
     },
     "metadata": {},
     "output_type": "display_data"
    },
    {
     "data": {
      "text/html": [
       "<div>\n",
       "<style scoped>\n",
       "    .dataframe tbody tr th:only-of-type {\n",
       "        vertical-align: middle;\n",
       "    }\n",
       "\n",
       "    .dataframe tbody tr th {\n",
       "        vertical-align: top;\n",
       "    }\n",
       "\n",
       "    .dataframe thead th {\n",
       "        text-align: right;\n",
       "    }\n",
       "</style>\n",
       "<table border=\"1\" class=\"dataframe\">\n",
       "  <thead>\n",
       "    <tr style=\"text-align: right;\">\n",
       "      <th></th>\n",
       "      <th>calls</th>\n",
       "      <th>minutes</th>\n",
       "      <th>messages</th>\n",
       "      <th>mb_used</th>\n",
       "      <th>is_ultra</th>\n",
       "    </tr>\n",
       "  </thead>\n",
       "  <tbody>\n",
       "    <tr>\n",
       "      <th>0</th>\n",
       "      <td>40.0</td>\n",
       "      <td>311.90</td>\n",
       "      <td>83.0</td>\n",
       "      <td>19915.42</td>\n",
       "      <td>0</td>\n",
       "    </tr>\n",
       "    <tr>\n",
       "      <th>1</th>\n",
       "      <td>85.0</td>\n",
       "      <td>516.75</td>\n",
       "      <td>56.0</td>\n",
       "      <td>22696.96</td>\n",
       "      <td>0</td>\n",
       "    </tr>\n",
       "    <tr>\n",
       "      <th>2</th>\n",
       "      <td>77.0</td>\n",
       "      <td>467.66</td>\n",
       "      <td>86.0</td>\n",
       "      <td>21060.45</td>\n",
       "      <td>0</td>\n",
       "    </tr>\n",
       "    <tr>\n",
       "      <th>3</th>\n",
       "      <td>106.0</td>\n",
       "      <td>745.53</td>\n",
       "      <td>81.0</td>\n",
       "      <td>8437.39</td>\n",
       "      <td>1</td>\n",
       "    </tr>\n",
       "    <tr>\n",
       "      <th>4</th>\n",
       "      <td>66.0</td>\n",
       "      <td>418.74</td>\n",
       "      <td>1.0</td>\n",
       "      <td>14502.75</td>\n",
       "      <td>0</td>\n",
       "    </tr>\n",
       "  </tbody>\n",
       "</table>\n",
       "</div>"
      ],
      "text/plain": [
       "   calls  minutes  messages   mb_used  is_ultra\n",
       "0   40.0   311.90      83.0  19915.42         0\n",
       "1   85.0   516.75      56.0  22696.96         0\n",
       "2   77.0   467.66      86.0  21060.45         0\n",
       "3  106.0   745.53      81.0   8437.39         1\n",
       "4   66.0   418.74       1.0  14502.75         0"
      ]
     },
     "metadata": {},
     "output_type": "display_data"
    },
    {
     "name": "stdout",
     "output_type": "stream",
     "text": [
      "<class 'pandas.core.frame.DataFrame'>\n",
      "RangeIndex: 3214 entries, 0 to 3213\n",
      "Data columns (total 5 columns):\n",
      " #   Column    Non-Null Count  Dtype  \n",
      "---  ------    --------------  -----  \n",
      " 0   calls     3214 non-null   float64\n",
      " 1   minutes   3214 non-null   float64\n",
      " 2   messages  3214 non-null   float64\n",
      " 3   mb_used   3214 non-null   float64\n",
      " 4   is_ultra  3214 non-null   int64  \n",
      "dtypes: float64(4), int64(1)\n",
      "memory usage: 125.7 KB\n"
     ]
    },
    {
     "data": {
      "text/plain": [
       "None"
      ]
     },
     "metadata": {},
     "output_type": "display_data"
    },
    {
     "data": {
      "text/html": [
       "<div>\n",
       "<style scoped>\n",
       "    .dataframe tbody tr th:only-of-type {\n",
       "        vertical-align: middle;\n",
       "    }\n",
       "\n",
       "    .dataframe tbody tr th {\n",
       "        vertical-align: top;\n",
       "    }\n",
       "\n",
       "    .dataframe thead th {\n",
       "        text-align: right;\n",
       "    }\n",
       "</style>\n",
       "<table border=\"1\" class=\"dataframe\">\n",
       "  <thead>\n",
       "    <tr style=\"text-align: right;\">\n",
       "      <th></th>\n",
       "      <th>calls</th>\n",
       "      <th>minutes</th>\n",
       "      <th>messages</th>\n",
       "      <th>mb_used</th>\n",
       "      <th>is_ultra</th>\n",
       "    </tr>\n",
       "  </thead>\n",
       "  <tbody>\n",
       "    <tr>\n",
       "      <th>count</th>\n",
       "      <td>3214.000000</td>\n",
       "      <td>3214.000000</td>\n",
       "      <td>3214.000000</td>\n",
       "      <td>3214.000000</td>\n",
       "      <td>3214.000000</td>\n",
       "    </tr>\n",
       "    <tr>\n",
       "      <th>mean</th>\n",
       "      <td>63.038892</td>\n",
       "      <td>438.208787</td>\n",
       "      <td>38.281269</td>\n",
       "      <td>17207.673836</td>\n",
       "      <td>0.306472</td>\n",
       "    </tr>\n",
       "    <tr>\n",
       "      <th>std</th>\n",
       "      <td>33.236368</td>\n",
       "      <td>234.569872</td>\n",
       "      <td>36.148326</td>\n",
       "      <td>7570.968246</td>\n",
       "      <td>0.461100</td>\n",
       "    </tr>\n",
       "    <tr>\n",
       "      <th>min</th>\n",
       "      <td>0.000000</td>\n",
       "      <td>0.000000</td>\n",
       "      <td>0.000000</td>\n",
       "      <td>0.000000</td>\n",
       "      <td>0.000000</td>\n",
       "    </tr>\n",
       "    <tr>\n",
       "      <th>25%</th>\n",
       "      <td>40.000000</td>\n",
       "      <td>274.575000</td>\n",
       "      <td>9.000000</td>\n",
       "      <td>12491.902500</td>\n",
       "      <td>0.000000</td>\n",
       "    </tr>\n",
       "    <tr>\n",
       "      <th>50%</th>\n",
       "      <td>62.000000</td>\n",
       "      <td>430.600000</td>\n",
       "      <td>30.000000</td>\n",
       "      <td>16943.235000</td>\n",
       "      <td>0.000000</td>\n",
       "    </tr>\n",
       "    <tr>\n",
       "      <th>75%</th>\n",
       "      <td>82.000000</td>\n",
       "      <td>571.927500</td>\n",
       "      <td>57.000000</td>\n",
       "      <td>21424.700000</td>\n",
       "      <td>1.000000</td>\n",
       "    </tr>\n",
       "    <tr>\n",
       "      <th>max</th>\n",
       "      <td>244.000000</td>\n",
       "      <td>1632.060000</td>\n",
       "      <td>224.000000</td>\n",
       "      <td>49745.730000</td>\n",
       "      <td>1.000000</td>\n",
       "    </tr>\n",
       "  </tbody>\n",
       "</table>\n",
       "</div>"
      ],
      "text/plain": [
       "             calls      minutes     messages       mb_used     is_ultra\n",
       "count  3214.000000  3214.000000  3214.000000   3214.000000  3214.000000\n",
       "mean     63.038892   438.208787    38.281269  17207.673836     0.306472\n",
       "std      33.236368   234.569872    36.148326   7570.968246     0.461100\n",
       "min       0.000000     0.000000     0.000000      0.000000     0.000000\n",
       "25%      40.000000   274.575000     9.000000  12491.902500     0.000000\n",
       "50%      62.000000   430.600000    30.000000  16943.235000     0.000000\n",
       "75%      82.000000   571.927500    57.000000  21424.700000     1.000000\n",
       "max     244.000000  1632.060000   224.000000  49745.730000     1.000000"
      ]
     },
     "metadata": {},
     "output_type": "display_data"
    },
    {
     "data": {
      "text/html": [
       "<h2> Verificacion de valores nulos"
      ],
      "text/plain": [
       "<IPython.core.display.HTML object>"
      ]
     },
     "metadata": {},
     "output_type": "display_data"
    },
    {
     "data": {
      "text/plain": [
       "calls       0\n",
       "minutes     0\n",
       "messages    0\n",
       "mb_used     0\n",
       "is_ultra    0\n",
       "dtype: int64"
      ]
     },
     "metadata": {},
     "output_type": "display_data"
    },
    {
     "data": {
      "text/html": [
       "<h2> Verificación de valores duplicados </h2>"
      ],
      "text/plain": [
       "<IPython.core.display.HTML object>"
      ]
     },
     "metadata": {},
     "output_type": "display_data"
    },
    {
     "data": {
      "text/plain": [
       "'Total de valores duplicados: 0'"
      ]
     },
     "metadata": {},
     "output_type": "display_data"
    },
    {
     "data": {
      "text/html": [
       "<hr>"
      ],
      "text/plain": [
       "<IPython.core.display.HTML object>"
      ]
     },
     "metadata": {},
     "output_type": "display_data"
    },
    {
     "data": {
      "text/html": [
       "\n",
       "<h2> Comentario sobre la exploracion inicial del archivo </h2>\n",
       "<p> Tras Realizar la exploracion inicial de datos se observo que no hay datos duplicados o nulos dentro del conjunto.\n",
       "Este conjunto de datos recopila informacion sobre el comportamiento de los usuarios, lo cuales engloban las llamadas, minutos utilizados, mensaje enviados y el uso de datos en MB\n",
       "\n"
      ],
      "text/plain": [
       "<IPython.core.display.HTML object>"
      ]
     },
     "metadata": {},
     "output_type": "display_data"
    }
   ],
   "source": [
    "# Importar librerias necesarias para el proyecto\n",
    "import pandas as pd\n",
    "from sklearn.model_selection import train_test_split\n",
    "from sklearn.linear_model import LogisticRegression\n",
    "from sklearn.ensemble import RandomForestClassifier\n",
    "from sklearn.metrics import accuracy_score\n",
    "from IPython.display import HTML\n",
    "from sklearn.model_selection import GridSearchCV\n",
    "\n",
    "# Importar Archivos\n",
    "df = pd.read_csv(\"datasets/users_behavior.csv\")\n",
    "\n",
    "# Mostrar datos relevantes del dataframe\n",
    "display(HTML('<hr>'))\n",
    "display(HTML('<h1> Datos de comportamiento de usuarios '))\n",
    "display(df.head())\n",
    "display(df.info())\n",
    "display(df.describe())\n",
    "\n",
    "# Verificacion de datos nulos \n",
    "nulos = df.isnull().sum()\n",
    "display(HTML('<h2> Verificacion de valores nulos'))\n",
    "display(nulos)\n",
    "\n",
    "# Verificación de valores duplicados\n",
    "duplicados = df.duplicated().sum()\n",
    "display(HTML('<h2> Verificación de valores duplicados </h2>'))\n",
    "display(f\"Total de valores duplicados: {duplicados}\")\n",
    "\n",
    "display(HTML('<hr>'))\n",
    "\n",
    "comentario = \"\"\"\n",
    "<h2> Comentario sobre la exploracion inicial del archivo </h2>\n",
    "<p> Tras Realizar la exploracion inicial de datos se observo que no hay datos duplicados o nulos dentro del conjunto.\n",
    "Este conjunto de datos recopila informacion sobre el comportamiento de los usuarios, lo cuales engloban las llamadas, minutos utilizados, mensaje enviados y el uso de datos en MB\n",
    "\n",
    "\"\"\"\n",
    "display(HTML(comentario))"
   ]
  },
  {
   "cell_type": "markdown",
   "metadata": {},
   "source": [
    "<div class=\"alert alert-block alert-danger\">\n",
    "<b>Comentario del revisor </b> <a class=\"tocSkip\"></a>\n",
    "    \n",
    "~~Buen trabajo importando las librerías necesarias para el desarrollo del proyecto, así mismo con la carga de los datos. Ahora bien, sería interesante que se puedan ampliar un poco más la exploración inicial de los datos por medio de la revisión de componentes como la presencia de valores duplicados / nulos o el uso de métodos adicionales como ``describe()``.  Por otro lado, si lo ves interesante, podrías generar un comentario contando lo encontrado en la sección.~~ </div>\n",
    "\n",
    "<div class=\"alert alert-block alert-success\">\n",
    "<b>Comentario del revisor #2 </b> <a class=\"tocSkip\"></a>\n",
    "    \n",
    "Buen trabajo, gracias por tener en cuenta los comentarios.  </div>"
   ]
  },
  {
   "cell_type": "markdown",
   "metadata": {},
   "source": [
    "### Segmentacion de datos en conjuntos de entrenamiento, validacion y prueba"
   ]
  },
  {
   "cell_type": "code",
   "execution_count": 2,
   "metadata": {},
   "outputs": [
    {
     "name": "stdout",
     "output_type": "stream",
     "text": [
      "Tamaño del conjunto de entrenamiento: 2249\n",
      "Tamaño del conjunto de validación: 482\n",
      "Tamaño del conjunto de prueba: 483\n"
     ]
    }
   ],
   "source": [
    "# Dividir los datos en características (X) y la variable objetivo (y)\n",
    "features = df.drop('is_ultra', axis=1)\n",
    "target = df['is_ultra']\n",
    "\n",
    "# Dividir los datos en conjuntos de entrenamiento (70%), validación (15%), y prueba (15%)\n",
    "X_train, X_temp, y_train, y_temp = train_test_split(features, target, test_size=0.3, random_state=12345)\n",
    "X_valid, X_test, y_valid, y_test = train_test_split(X_temp, y_temp, test_size=0.5, random_state=12345)\n",
    "\n",
    "# Muestra el tamaño de cada conjunto\n",
    "print(\"Tamaño del conjunto de entrenamiento:\", len(X_train))\n",
    "print(\"Tamaño del conjunto de validación:\", len(X_valid))\n",
    "print(\"Tamaño del conjunto de prueba:\", len(X_test))"
   ]
  },
  {
   "cell_type": "markdown",
   "metadata": {},
   "source": [
    "<div class=\"alert alert-block alert-success\">\n",
    "<b>Comentario del revisor </b> <a class=\"tocSkip\"></a>\n",
    "    \n",
    "Perfecto, buen trabajo creando los sets necesarios para el despliegue de los modelos.   </div>"
   ]
  },
  {
   "cell_type": "markdown",
   "metadata": {},
   "source": [
    "### Aplicar modelo Random Forest y evaluacion"
   ]
  },
  {
   "cell_type": "code",
   "execution_count": 3,
   "metadata": {},
   "outputs": [
    {
     "name": "stdout",
     "output_type": "stream",
     "text": [
      "Mejores hiperparámetros para Random Forest: {'max_depth': 10, 'min_samples_leaf': 1, 'min_samples_split': 2, 'n_estimators': 100}\n",
      "Exactitud del modelo Random Forest en el conjunto de prueba: 0.8033126293995859\n"
     ]
    }
   ],
   "source": [
    "# Definir la grilla de hiperparámetros para Random Forest\n",
    "param_grid_rf = {\n",
    "    'n_estimators': [100, 150, 200],\n",
    "    'max_depth': [5, 10, None],\n",
    "    'min_samples_leaf': [1, 4, 7],\n",
    "    'min_samples_split': [2, 5, 10]\n",
    "}\n",
    "\n",
    "# Crear el objeto GridSearchCV\n",
    "grid_search_rf = GridSearchCV(estimator=RandomForestClassifier(random_state=12345), \n",
    "                              param_grid=param_grid_rf, \n",
    "                              cv=5, \n",
    "                              scoring='accuracy')\n",
    "\n",
    "# Ajustar GridSearchCV\n",
    "grid_search_rf.fit(X_train, y_train)\n",
    "\n",
    "# Mejores hiperparámetros\n",
    "print(\"Mejores hiperparámetros para Random Forest:\", grid_search_rf.best_params_)\n",
    "\n",
    "# Crear una nueva instancia del modelo con los mejores hiperparámetros\n",
    "best_rf_model = RandomForestClassifier(n_estimators=grid_search_rf.best_params_['n_estimators'],\n",
    "                                       max_depth=grid_search_rf.best_params_['max_depth'],\n",
    "                                       min_samples_leaf=grid_search_rf.best_params_['min_samples_leaf'],\n",
    "                                       min_samples_split=grid_search_rf.best_params_['min_samples_split'],\n",
    "                                       random_state=12345)\n",
    "\n",
    "# Entrenar el modelo con el conjunto de entrenamiento\n",
    "best_rf_model.fit(X_train, y_train)\n",
    "\n",
    "# Realizar predicciones en el conjunto de prueba y evaluar\n",
    "predictions_test_rf = best_rf_model.predict(X_test)\n",
    "accuracy_test_rf = accuracy_score(y_test, predictions_test_rf)\n",
    "print(\"Exactitud del modelo Random Forest en el conjunto de prueba:\", accuracy_test_rf)\n"
   ]
  },
  {
   "cell_type": "markdown",
   "metadata": {},
   "source": [
    "### Aplicar modelo Logistic Regression y evaluacion"
   ]
  },
  {
   "cell_type": "code",
   "execution_count": 4,
   "metadata": {},
   "outputs": [
    {
     "name": "stdout",
     "output_type": "stream",
     "text": [
      "Mejores hiperparámetros para Logistic Regression: {'C': 1, 'penalty': 'l1', 'solver': 'liblinear'}\n",
      "Exactitud del modelo Logistic Regression en el conjunto de prueba: 0.7391304347826086\n"
     ]
    }
   ],
   "source": [
    "# Definir la grilla de hiperparámetros para Regresión Logística\n",
    "param_grid_lr = {\n",
    "    'C': [0.01, 0.1, 1, 10],\n",
    "    'penalty': ['l1', 'l2'],\n",
    "    'solver': ['liblinear']\n",
    "}\n",
    "\n",
    "# Crear el objeto GridSearchCV\n",
    "grid_search_lr = GridSearchCV(estimator=LogisticRegression(random_state=12345, max_iter=200), param_grid=param_grid_lr, cv=5, scoring='accuracy')\n",
    "\n",
    "# Ajustar GridSearchCV\n",
    "grid_search_lr.fit(X_train, y_train)\n",
    "\n",
    "# Mejores hiperparámetros\n",
    "print(\"Mejores hiperparámetros para Logistic Regression:\", grid_search_lr.best_params_)\n",
    "\n",
    "# Crear una nueva instancia del modelo con los mejores hiperparámetros\n",
    "\n",
    "best_lr_model = LogisticRegression(C=grid_search_lr.best_params_['C'],\n",
    "                                       penalty=grid_search_lr.best_params_['penalty'],\n",
    "                                       solver=grid_search_lr.best_params_['solver'],\n",
    "                                       random_state=12345)\n",
    "\n",
    "# Entrenar el modelo con el conjunto de entramiento\n",
    "best_lr_model.fit(X_train, y_train)\n",
    "\n",
    "# Realizar predicciones en el conjunto de prueba y evaluar\n",
    "predictions_test_lr = best_lr_model.predict(X_test)\n",
    "accuracy_test_lr = accuracy_score(y_test, predictions_test_lr)\n",
    "print(\"Exactitud del modelo Logistic Regression en el conjunto de prueba:\", accuracy_test_lr)\n",
    "\n"
   ]
  },
  {
   "cell_type": "markdown",
   "metadata": {},
   "source": [
    "### Prueba de cordura"
   ]
  },
  {
   "cell_type": "code",
   "execution_count": 5,
   "metadata": {},
   "outputs": [
    {
     "data": {
      "text/html": [
       "<hr>"
      ],
      "text/plain": [
       "<IPython.core.display.HTML object>"
      ]
     },
     "metadata": {},
     "output_type": "display_data"
    },
    {
     "data": {
      "text/html": [
       "<h2> Random forest: "
      ],
      "text/plain": [
       "<IPython.core.display.HTML object>"
      ]
     },
     "metadata": {},
     "output_type": "display_data"
    },
    {
     "name": "stdout",
     "output_type": "stream",
     "text": [
      "Importancia de características en Random Forest:\n",
      "           importance\n",
      "mb_used     0.367198\n",
      "minutes     0.232389\n",
      "calls       0.202064\n",
      "messages    0.198348\n"
     ]
    },
    {
     "data": {
      "text/html": [
       "<hr>"
      ],
      "text/plain": [
       "<IPython.core.display.HTML object>"
      ]
     },
     "metadata": {},
     "output_type": "display_data"
    },
    {
     "data": {
      "text/html": [
       "<h2> Logistic Regression: "
      ],
      "text/plain": [
       "<IPython.core.display.HTML object>"
      ]
     },
     "metadata": {},
     "output_type": "display_data"
    },
    {
     "name": "stdout",
     "output_type": "stream",
     "text": [
      "Importancia de las características en la Regresión Logística:\n",
      "           Coefficient\n",
      "messages     0.008967\n",
      "calls        0.002473\n",
      "minutes      0.001163\n",
      "mb_used      0.000040\n"
     ]
    }
   ],
   "source": [
    "# Analiza la importancia de las características\n",
    "rf_feature_importances = pd.DataFrame(best_rf_model.feature_importances_, index=X_train.columns, columns=['importance']).sort_values('importance', ascending=False)\n",
    "\n",
    "\n",
    "# Obtener los coeficientes del modelo\n",
    "lr_coefficients = best_lr_model.coef_[0]\n",
    "\n",
    "# Crear un DataFrame para visualizar los coeficientes (importancia) de cada característica\n",
    "lr_feature_importance = pd.DataFrame(lr_coefficients, \n",
    "                                     index=X_train.columns, \n",
    "                                     columns=['Coefficient']).sort_values('Coefficient', ascending=False)\n",
    "\n",
    "display(HTML('<hr>'))\n",
    "display(HTML('<h2> Random forest: '))\n",
    "print(\"Importancia de características en Random Forest:\\n\", rf_feature_importances)\n",
    "display(HTML('<hr>'))\n",
    "display(HTML('<h2> Logistic Regression: '))\n",
    "print(\"Importancia de las características en la Regresión Logística:\\n\", lr_feature_importance)\n",
    "\n"
   ]
  },
  {
   "cell_type": "markdown",
   "metadata": {},
   "source": [
    "<div class=\"alert alert-block alert-danger\">\n",
    "<b>Comentario del revisor </b> <a class=\"tocSkip\"></a>\n",
    "    \n",
    "~~~~Realizas un buen trabajo desplegando los modelos; sin embargo, hay algunos comentarios que quiero dejar para que los puedas tener en cuenta:~~~~ \n",
    "    \n",
    "\n",
    "- ~~Primero que todo, sería interesante poder explorar alguna manera de optimizar los hiperparámetros usados dentro de los algoritmos, ya sea con el uso de bucles o grillas de optimización de hiperparámetros.~~ \n",
    "\n",
    "- No se está terminando de usar la lógica del set de testeo de manera correcta, fíjate que ninguno de los modelos lo testeas con dicho set. </div>\n",
    "\n",
    "<div class=\"alert alert-block alert-success\">\n",
    "<b>Comentario del revisor #2</b> <a class=\"tocSkip\"></a>\n",
    "    \n",
    "Buen trabajo. </div>"
   ]
  },
  {
   "cell_type": "markdown",
   "metadata": {},
   "source": [
    "<div class=\"alert alert-block alert-danger\">\n",
    "<b>Comentario del revisor </b> <a class=\"tocSkip\"></a>\n",
    "    \n",
    "# Comentario General\n",
    "\n",
    "~~Hola Eduardo, te felicito por el desarrollo del proyecto hasta el momento. Ahora bien, he dejado comentarios para que los puedas tener en cuenta para la siguiente entrega. Quedo atento.~~ </div>\n",
    "\n",
    "<div class=\"alert alert-block alert-success\">\n",
    "<b>Comentario del revisor </b> <a class=\"tocSkip\"></a>\n",
    "    \n",
    "# Comentario General #2\n",
    "    \n",
    "Hola Eduardo, te felicito por la culminación del proyecto. Muy buen trabajo. </div>"
   ]
  }
 ],
 "metadata": {
  "kernelspec": {
   "display_name": "Python 3 (ipykernel)",
   "language": "python",
   "name": "python3"
  },
  "language_info": {
   "codemirror_mode": {
    "name": "ipython",
    "version": 3
   },
   "file_extension": ".py",
   "mimetype": "text/x-python",
   "name": "python",
   "nbconvert_exporter": "python",
   "pygments_lexer": "ipython3",
   "version": "3.12.0"
  },
  "toc": {
   "base_numbering": 1,
   "nav_menu": {},
   "number_sections": true,
   "sideBar": true,
   "skip_h1_title": true,
   "title_cell": "Table of Contents",
   "title_sidebar": "Contents",
   "toc_cell": false,
   "toc_position": {},
   "toc_section_display": true,
   "toc_window_display": false
  }
 },
 "nbformat": 4,
 "nbformat_minor": 2
}
